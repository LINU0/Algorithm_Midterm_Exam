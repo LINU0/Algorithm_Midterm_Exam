{
  "nbformat": 4,
  "nbformat_minor": 0,
  "metadata": {
    "colab": {
      "provenance": [],
      "authorship_tag": "ABX9TyPWhamHQq51HW8f7fYGZEyB",
      "include_colab_link": true
    },
    "kernelspec": {
      "name": "python3",
      "display_name": "Python 3"
    },
    "language_info": {
      "name": "python"
    }
  },
  "cells": [
    {
      "cell_type": "markdown",
      "metadata": {
        "id": "view-in-github",
        "colab_type": "text"
      },
      "source": [
        "<a href=\"https://colab.research.google.com/github/LINU0/Algorithm_Midterm_Exam/blob/main/matrix_chain.ipynb\" target=\"_parent\"><img src=\"https://colab.research.google.com/assets/colab-badge.svg\" alt=\"Open In Colab\"/></a>"
      ]
    },
    {
      "cell_type": "markdown",
      "source": [
        "1.\n",
        "\n"
      ],
      "metadata": {
        "id": "ciCWK2Y1TsYP"
      }
    },
    {
      "cell_type": "code",
      "execution_count": 1,
      "metadata": {
        "id": "sjOdG4CxxPIF"
      },
      "outputs": [],
      "source": [
        "def brute_force(p,i,j):\n",
        "  if i == j:\n",
        "    return 0,f\"A{i}\"\n",
        "    \n",
        "  min_cost = float('inf')\n",
        "  order=\"\"  \n",
        "    \n",
        "  for k in range(i, j):\n",
        "    cost_left,order_left = brute_force(p,i,k)\n",
        "    cost_right,order_right = brute_force(p,k+1,j)\n",
        "    cost = cost_left + cost_right + p[i-1] * p[k] * p[j]       \n",
        "    if cost < min_cost:\n",
        "      min_cost = cost\n",
        "      order=f\"({order_left}*{order_right})\"\n",
        "    \n",
        "  return min_cost,order"
      ]
    },
    {
      "cell_type": "code",
      "source": [
        "p=[30,35,15,5,10,20,25]\n",
        "brute_force(p,1,len(p)-1)"
      ],
      "metadata": {
        "colab": {
          "base_uri": "https://localhost:8080/"
        },
        "id": "Pus6d4A-x9FU",
        "outputId": "564a10c1-1090-4e3b-c87a-da42794a2e0c"
      },
      "execution_count": 2,
      "outputs": [
        {
          "output_type": "execute_result",
          "data": {
            "text/plain": [
              "(15125, '((A1*(A2*A3))*((A4*A5)*A6))')"
            ]
          },
          "metadata": {},
          "execution_count": 2
        }
      ]
    },
    {
      "cell_type": "code",
      "source": [
        "def DP_matrix_chain(p):\n",
        "  n = len(p) - 1\n",
        "  m = [[0] * (n+1) for _ in range(n+1)]#Ai到Aj的最小乘數m[i][j]\n",
        "  s = [[0] * (n+1) for _ in range(n+1)]#子問題最後一個乘的位子\n",
        "\n",
        "  for l in range(2, n+1):\n",
        "    for i in range(1,n-l+2):\n",
        "      j = i + l - 1\n",
        "      m[i][j] = float('inf')      \n",
        "      for k in range(i, j):\n",
        "        tempCost = m[i][k] + m[k+1][j] + p[i-1] * p[k] * p[j]\n",
        "        if tempCost < m[i][j]:\n",
        "          m[i][j] = tempCost\n",
        "          s[i][j] = k\n",
        "  optimal_ordering=construct_optimal_ordering(s,1,n)\n",
        "  return m[1][n], optimal_ordering\n",
        "\n",
        "def construct_optimal_ordering(s, i, j):\n",
        "  if i == j:\n",
        "    return f\"A{i}\"    \n",
        "  k = s[i][j]    \n",
        "  order_left = construct_optimal_ordering(s, i, k)\n",
        "  order_right = construct_optimal_ordering(s, k+1, j)    \n",
        "  return f\"({order_left} * {order_right})\"\n",
        "\n",
        "optimal_number,  optimal_ordering = DP_matrix_chain(p)\n",
        "print(\"最優乘法數:\", optimal_number)\n",
        "print(\"最優相乘順序:\",optimal_ordering)\n",
        "\n",
        "    "
      ],
      "metadata": {
        "colab": {
          "base_uri": "https://localhost:8080/"
        },
        "id": "xa-3v9Ki8X5t",
        "outputId": "2370bd27-3899-43bc-e741-0e7edbe08fa7"
      },
      "execution_count": 3,
      "outputs": [
        {
          "output_type": "stream",
          "name": "stdout",
          "text": [
            "最優乘法數: 15125\n",
            "最優相乘順序: ((A1 * (A2 * A3)) * ((A4 * A5) * A6))\n"
          ]
        }
      ]
    },
    {
      "cell_type": "markdown",
      "source": [
        "2."
      ],
      "metadata": {
        "id": "17r2YmjuTp1R"
      }
    },
    {
      "cell_type": "code",
      "source": [
        "import random\n",
        "import time\n",
        "import matplotlib.pyplot as plt"
      ],
      "metadata": {
        "id": "EsOT1EgSLIql"
      },
      "execution_count": 5,
      "outputs": []
    },
    {
      "cell_type": "code",
      "source": [
        "n=[i for i in range(5,18)]\n",
        "n"
      ],
      "metadata": {
        "colab": {
          "base_uri": "https://localhost:8080/"
        },
        "id": "VfUvO0xXKVjC",
        "outputId": "5fb2154f-fc29-42bb-fd11-be0fb24434fb"
      },
      "execution_count": 30,
      "outputs": [
        {
          "output_type": "execute_result",
          "data": {
            "text/plain": [
              "[5, 6, 7, 8, 9, 10, 11, 12, 13, 14, 15, 16, 17]"
            ]
          },
          "metadata": {},
          "execution_count": 30
        }
      ]
    },
    {
      "cell_type": "code",
      "source": [
        "execution_time_list_brute_force=[]\n",
        "execution_time_list_DP_matrix_chain=[]\n",
        "for i in n:\n",
        "    P = random.choices(range(1, 101), k=i+1)\n",
        "    start_time_brute_force = time.process_time()\n",
        "    optimal_number_brute_force, optimal_ordering_brute_force=brute_force(P,1,i)\n",
        "    print(\"brute_force最優乘法數:\", optimal_number_brute_force,\"最優相乘順序:\",optimal_ordering_brute_force)\n",
        "    end_time_brute_force = time.process_time()\n",
        "    execution_time_brute_force = end_time_brute_force - start_time_brute_force\n",
        "    execution_time_list_brute_force.append(execution_time_brute_force)\n",
        "\n",
        "    start_time_DP_matrix_chain = time.process_time()\n",
        "    optimal_number_DP_matrix_chain, optimal_ordering_DP_matrix_chain=DP_matrix_chain(P)\n",
        "    print(\"DP_matrix_chain最優乘法數:\", optimal_number_DP_matrix_chain,\"最優相乘順序:\",optimal_ordering_DP_matrix_chain)\n",
        "    end_time_DP_matrix_chain = time.process_time()\n",
        "    execution_time_DP_matrix_chain = end_time_DP_matrix_chain - start_time_DP_matrix_chain\n",
        "    execution_time_list_DP_matrix_chain.append(execution_time_DP_matrix_chain)\n",
        "\n"
      ],
      "metadata": {
        "colab": {
          "base_uri": "https://localhost:8080/"
        },
        "id": "m8tPQKH8K_OV",
        "outputId": "dbd68cca-d3b9-49e3-8448-406eeed609d8"
      },
      "execution_count": 31,
      "outputs": [
        {
          "output_type": "stream",
          "name": "stdout",
          "text": [
            "brute_force最優乘法數: 29016 最優相乘順序: ((A1*(A2*A3))*(A4*A5))\n",
            "DP_matrix_chain最優乘法數: 29016 最優相乘順序: ((A1 * (A2 * A3)) * (A4 * A5))\n",
            "brute_force最優乘法數: 134360 最優相乘順序: ((A1*((A2*A3)*(A4*A5)))*A6)\n",
            "DP_matrix_chain最優乘法數: 134360 最優相乘順序: ((A1 * ((A2 * A3) * (A4 * A5))) * A6)\n",
            "brute_force最優乘法數: 68448 最優相乘順序: ((A1*(A2*(A3*A4)))*((A5*A6)*A7))\n",
            "DP_matrix_chain最優乘法數: 68448 最優相乘順序: ((A1 * (A2 * (A3 * A4))) * ((A5 * A6) * A7))\n",
            "brute_force最優乘法數: 107379 最優相乘順序: ((A1*(A2*(A3*(A4*A5))))*((A6*A7)*A8))\n",
            "DP_matrix_chain最優乘法數: 107379 最優相乘順序: ((A1 * (A2 * (A3 * (A4 * A5)))) * ((A6 * A7) * A8))\n",
            "brute_force最優乘法數: 33610 最優相乘順序: ((A1*A2)*((((((A3*A4)*A5)*A6)*A7)*A8)*A9))\n",
            "DP_matrix_chain最優乘法數: 33610 最優相乘順序: ((A1 * A2) * ((((((A3 * A4) * A5) * A6) * A7) * A8) * A9))\n",
            "brute_force最優乘法數: 291429 最優相乘順序: ((A1*(A2*(A3*(A4*A5))))*((((A6*A7)*A8)*A9)*A10))\n",
            "DP_matrix_chain最優乘法數: 291429 最優相乘順序: ((A1 * (A2 * (A3 * (A4 * A5)))) * ((((A6 * A7) * A8) * A9) * A10))\n",
            "brute_force最優乘法數: 159800 最優相乘順序: ((A1*(A2*(A3*A4)))*((((((A5*A6)*A7)*A8)*A9)*A10)*A11))\n",
            "DP_matrix_chain最優乘法數: 159800 最優相乘順序: ((A1 * (A2 * (A3 * A4))) * ((((((A5 * A6) * A7) * A8) * A9) * A10) * A11))\n",
            "brute_force最優乘法數: 58334 最優相乘順序: ((A1*A2)*(((((((((A3*A4)*A5)*A6)*A7)*A8)*A9)*A10)*A11)*A12))\n",
            "DP_matrix_chain最優乘法數: 58334 最優相乘順序: ((A1 * A2) * (((((((((A3 * A4) * A5) * A6) * A7) * A8) * A9) * A10) * A11) * A12))\n",
            "brute_force最優乘法數: 102996 最優相乘順序: ((A1*A2)*((((((((((A3*A4)*A5)*A6)*A7)*A8)*A9)*A10)*A11)*A12)*A13))\n",
            "DP_matrix_chain最優乘法數: 102996 最優相乘順序: ((A1 * A2) * ((((((((((A3 * A4) * A5) * A6) * A7) * A8) * A9) * A10) * A11) * A12) * A13))\n",
            "brute_force最優乘法數: 273216 最優相乘順序: ((A1*(A2*(A3*(A4*(A5*(A6*(A7*(A8*A9))))))))*((((A10*A11)*A12)*A13)*A14))\n",
            "DP_matrix_chain最優乘法數: 273216 最優相乘順序: ((A1 * (A2 * (A3 * (A4 * (A5 * (A6 * (A7 * (A8 * A9)))))))) * ((((A10 * A11) * A12) * A13) * A14))\n",
            "brute_force最優乘法數: 128709 最優相乘順序: (A1*(((((((((((((A2*A3)*A4)*A5)*A6)*A7)*A8)*A9)*A10)*A11)*A12)*A13)*A14)*A15))\n",
            "DP_matrix_chain最優乘法數: 128709 最優相乘順序: (A1 * (((((((((((((A2 * A3) * A4) * A5) * A6) * A7) * A8) * A9) * A10) * A11) * A12) * A13) * A14) * A15))\n",
            "brute_force最優乘法數: 33284 最優相乘順序: ((A1*(A2*(A3*(A4*(A5*(A6*(A7*(A8*A9))))))))*((((((A10*A11)*A12)*A13)*A14)*A15)*A16))\n",
            "DP_matrix_chain最優乘法數: 33284 最優相乘順序: ((A1 * (A2 * (A3 * (A4 * (A5 * (A6 * (A7 * (A8 * A9)))))))) * ((((((A10 * A11) * A12) * A13) * A14) * A15) * A16))\n",
            "brute_force最優乘法數: 35513 最優相乘順序: ((A1*(A2*(A3*(A4*A5))))*(((((((((((A6*A7)*A8)*A9)*A10)*A11)*A12)*A13)*A14)*A15)*A16)*A17))\n",
            "DP_matrix_chain最優乘法數: 35513 最優相乘順序: ((A1 * (A2 * (A3 * (A4 * A5)))) * (((((((((((A6 * A7) * A8) * A9) * A10) * A11) * A12) * A13) * A14) * A15) * A16) * A17))\n"
          ]
        }
      ]
    },
    {
      "cell_type": "markdown",
      "source": [
        "3."
      ],
      "metadata": {
        "id": "r0vzlf5ITnd3"
      }
    },
    {
      "cell_type": "code",
      "source": [
        "plt.plot(n, execution_time_list_brute_force, label=\"brute force\")\n",
        "plt.plot(n, execution_time_list_DP_matrix_chain, label=\"Dynamic Programming\")\n",
        "\n",
        "plt.xlabel(\"n\")\n",
        "plt.ylabel(\"Execution Time\")\n",
        "plt.title(\"Execution Time for Different Algorithms \")\n",
        "plt.legend()\n",
        "plt.show()"
      ],
      "metadata": {
        "colab": {
          "base_uri": "https://localhost:8080/",
          "height": 472
        },
        "id": "g3DZA0fsN_ak",
        "outputId": "61716fae-d227-4566-f12c-2b07249c11e8"
      },
      "execution_count": 32,
      "outputs": [
        {
          "output_type": "display_data",
          "data": {
            "text/plain": [
              "<Figure size 640x480 with 1 Axes>"
            ],
            "image/png": "[encoded data removed]"
          },
          "metadata": {}
        }
      ]
    }
  ]
}